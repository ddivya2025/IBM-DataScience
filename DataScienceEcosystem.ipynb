{
 "cells": [
  {
   "cell_type": "markdown",
   "id": "5ae670ee-dd61-4cca-a741-3da1df11b722",
   "metadata": {},
   "source": [
    "# Data Science Tools and Ecosystem"
   ]
  },
  {
   "cell_type": "markdown",
   "id": "e6430568-841f-4ee6-ad2b-9742b8ee5a19",
   "metadata": {},
   "source": [
    "This Jupyter notebook summarizes the Data Science Tools and Ecosystem "
   ]
  },
  {
   "cell_type": "markdown",
   "id": "26ea2051-3063-4bbc-a426-f1840329f024",
   "metadata": {},
   "source": [
    "Some of the famous data science languages are:\n",
    "1. Python\n",
    "2. R\n",
    "3. SQL\n",
    "4. Java\n",
    "5. Javascript\n",
    "6. C++"
   ]
  },
  {
   "cell_type": "markdown",
   "id": "358cb505-bf09-477d-8a1d-53e7c87d1869",
   "metadata": {},
   "source": [
    "Listed below are some of the commonly used libraries by Data Scientists\n",
    "1. Pandas\n",
    "2. NumPy\n",
    "3. Matplotlib\n",
    "4. TensorFlow\n",
    "5. SciPy\n",
    "6. ScikitLearn"
   ]
  },
  {
   "cell_type": "markdown",
   "id": "aeb3ed3d-b155-47ea-9ad1-dafd4ee4f8a5",
   "metadata": {},
   "source": [
    "|Data Science Tools|\n",
    "|------------------|\n",
    "|Jupyter Notebook  |\n",
    "|R Studio          |\n",
    "|Anaconda          |"
   ]
  },
  {
   "cell_type": "markdown",
   "id": "f32be620-e1b4-4fa1-9f9b-5c00f42ff92c",
   "metadata": {},
   "source": [
    "### Below are a few examples of evaluating arithmetic expressions in Python"
   ]
  },
  {
   "cell_type": "code",
   "execution_count": 4,
   "id": "68a90a23-222e-468f-bb99-9caa705b3bd0",
   "metadata": {},
   "outputs": [
    {
     "data": {
      "text/plain": [
       "17"
      ]
     },
     "execution_count": 4,
     "metadata": {},
     "output_type": "execute_result"
    }
   ],
   "source": [
    "# This a simple arithmetic expression to multiply then add integers\n",
    "(3*4)+5"
   ]
  },
  {
   "cell_type": "code",
   "execution_count": 5,
   "id": "f257e949-b6e1-4543-8b9e-102a38681e2b",
   "metadata": {},
   "outputs": [
    {
     "data": {
      "text/plain": [
       "3.3333333333333335"
      ]
     },
     "execution_count": 5,
     "metadata": {},
     "output_type": "execute_result"
    }
   ],
   "source": [
    "# This will convert 200 minutes to hours by dividing by 60\n",
    "200/60"
   ]
  },
  {
   "cell_type": "markdown",
   "id": "f7daad9f-19ea-42f0-aef3-6818acca5b66",
   "metadata": {},
   "source": [
    "__Objectives:__\n",
    "* List of languages used by Data Scientists\n",
    "* List of commonly used Data Science libraries\n",
    "* List of popular Data Science Tools\n",
    "* How to use markdown cells\n",
    "* How to construct table with data\n",
    "* How to represent arithmetic operations with comments\n"
   ]
  },
  {
   "cell_type": "markdown",
   "id": "f78b0370-0174-49b3-87b7-8493097100d0",
   "metadata": {},
   "source": [
    "## Author\n",
    "   Divya Damodaran"
   ]
  },
  {
   "cell_type": "code",
   "execution_count": null,
   "id": "787ca7c4-47ee-4111-988f-8bcd11a14386",
   "metadata": {},
   "outputs": [],
   "source": []
  }
 ],
 "metadata": {
  "kernelspec": {
   "display_name": "Python 3 (ipykernel)",
   "language": "python",
   "name": "python3"
  },
  "language_info": {
   "codemirror_mode": {
    "name": "ipython",
    "version": 3
   },
   "file_extension": ".py",
   "mimetype": "text/x-python",
   "name": "python",
   "nbconvert_exporter": "python",
   "pygments_lexer": "ipython3",
   "version": "3.13.1"
  }
 },
 "nbformat": 4,
 "nbformat_minor": 5
}
